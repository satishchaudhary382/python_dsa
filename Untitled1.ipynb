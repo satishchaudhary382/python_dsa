{
 "cells": [
  {
   "cell_type": "code",
   "execution_count": null,
   "id": "cb4b40fa-99e6-4c74-8176-6c8d95b88b41",
   "metadata": {},
   "outputs": [],
   "source": [
    "# Function for second order differential equation with constant term and constant coefficients\n",
    "from IPython.display import display_latex\n",
    "\n",
    "def print_latex(expression):\n",
    "    display_latex(expression, raw=True)\n",
    "\n",
    "def ode_2(r, a1, a2, b, first_order_condition, second_order_condition):\n",
    "    if r < 0 and a1 < 0 and a2 < 0 and b < 0:\n",
    "        print(f'''The given equation is: {r}y\"(t){a1}y'(t){a2}y = {b}''')\n",
    "    elif a1 < 0 and a2 < 0 and b < 0:\n",
    "        print(f'''The given equation is: {r}y\"(t){a1}y'(t){a2}y = {b}''')\n",
    "    elif a2 < 0 and b < 0:\n",
    "        print(f'''The given equation is: {r}y\"(t)+{a1}y'(t){a2}y = {b}''')\n",
    "    elif b < 0:\n",
    "        print(f'''The given equation is: {r}y\"(t)+{a1}y'(t)+{a2}y = {b}''')\n",
    "    else:\n",
    "        print(f'''The given equation is: {r}y\"(t)+{a1}y'(t)+{a2}y = {b}''')\n",
    "    print_latex(\"Comparing this equation with:\")\n",
    "    latex_code = r\"$\\frac{d^2y}{dt^2} + a_1\\frac{dy}{dt}+a_2 = b$\"    #f(x) = \\frac{\\sin(x)}{x}\n",
    "    print_latex(latex_code)\n",
    "    print_latex('Consequently writing the above equation as: 'r\"$r^2+a_1r+a_2$\")\n",
    "    print(\"-\"*50)\n",
    "    print_latex('Checking wether the complementary function 'r\"$y_c$ \" 'of the equation is distinct real roots, equal roots or complex roots')\n",
    "\n",
    "    # Checking roots \n",
    "    if a1*a1 - 4*r*a2 > 0:\n",
    "        print_latex(r\"$a_1^2 - 4 * r * a_2 = $\"' distinct roots') \n",
    "        discriminant = a1**2 - 4*r*a2\n",
    "        if discriminant >= 0:\n",
    "            root1 = (-a1 + discriminant**0.5) / (2*r)\n",
    "            root2 = (-a1 - discriminant**0.5) / (2*r)\n",
    "            print(f\"root1: {root1}, root2: {root2}\")\n",
    "        \n",
    "    print_latex(\"The complementary function \" r\"$y_c = A_1e^{r_1t} + A_2e^{r_2t}$\")\n",
    "    print_latex(f\"The complementary function $y_c = A_1e^{{{root1}t}} + A_2e^{{{root2}t}}$\")\n",
    "    print(\"-\"*50)\n",
    "    print_latex('for 'r\"$y_c$\")\n",
    "    if a2 != 0:\n",
    "        print_latex(r\"$y_p = \\frac{b}{a_2}$\")\n",
    "        print_latex(f\"$y_p = \\\\frac{{{b}}}{{{a2}}}$\")\n",
    "    print(\"-\"*50)\n",
    "    print_latex(\"The general solution is\")\n",
    "    print_latex(r\"$y = y_p + y_c$\")\n",
    "    print_latex(f\"General solution $y = \\\\frac{{{b}}}{{{a2}}} + A_1e^{{{root1}t}} + A_2e^{{{root2}t}}$\")\n",
    "    "
   ]
  },
  {
   "cell_type": "code",
   "execution_count": null,
   "id": "1df5a09e-74f4-49ee-82e4-d39c9a7942a1",
   "metadata": {},
   "outputs": [],
   "source": [
    "ode_2(1,3,2,5,11/2,5)"
   ]
  },
  {
   "cell_type": "code",
   "execution_count": 90,
   "id": "0f666f1b-97ec-4fbb-8601-562504d3bdd3",
   "metadata": {},
   "outputs": [],
   "source": [
    "\n",
    "\n",
    "# Example usage:\n"
   ]
  },
  {
   "cell_type": "code",
   "execution_count": null,
   "id": "90a921dc-3d83-49af-8a65-998e3a35e1be",
   "metadata": {},
   "outputs": [],
   "source": []
  }
 ],
 "metadata": {
  "kernelspec": {
   "display_name": "Python 3",
   "language": "python",
   "name": "python3"
  },
  "language_info": {
   "codemirror_mode": {
    "name": "ipython",
    "version": 3
   },
   "file_extension": ".py",
   "mimetype": "text/x-python",
   "name": "python",
   "nbconvert_exporter": "python",
   "pygments_lexer": "ipython3",
   "version": "3.10.10"
  }
 },
 "nbformat": 4,
 "nbformat_minor": 5
}
